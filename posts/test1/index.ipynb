{
 "cells": [
  {
   "cell_type": "markdown",
   "metadata": {},
   "source": [
    "Write your post here."
   ]
  }
 ],
 "metadata": {
  "kernelspec": {
   "display_name": "Python 3",
   "env": {},
   "language": "python",
   "name": "python3"
  },
  "nikola": {
   "category": "",
   "date": "2017-03-21 16:40:33 UTC-07:00",
   "description": "",
   "link": "",
   "slug": "test1",
   "tags": "",
   "title": "test1",
   "type": "text"
  }
 },
 "nbformat": 4,
 "nbformat_minor": 2
}
